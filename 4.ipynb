{
  "nbformat": 4,
  "nbformat_minor": 0,
  "metadata": {
    "colab": {
      "provenance": [],
      "authorship_tag": "ABX9TyOkrrq8qg/P+rkWF70s+fbd",
      "include_colab_link": true
    },
    "kernelspec": {
      "name": "python3",
      "display_name": "Python 3"
    },
    "language_info": {
      "name": "python"
    }
  },
  "cells": [
    {
      "cell_type": "markdown",
      "metadata": {
        "id": "view-in-github",
        "colab_type": "text"
      },
      "source": [
        "<a href=\"https://colab.research.google.com/github/2022013193/DL23/blob/main/4.ipynb\" target=\"_parent\"><img src=\"https://colab.research.google.com/assets/colab-badge.svg\" alt=\"Open In Colab\"/></a>"
      ]
    },
    {
      "cell_type": "code",
      "source": [
        "#@markdown List the following steps in the correct order\n",
        "import random\n",
        "\n",
        "# 문제 단계들을 리스트로 준비합니다.\n",
        "steps = [\"Conservation scientists used X-ray photography to determine the original form.\",\n",
        "         \"The cap was broken down into parts.\",\n",
        "         \"Conservation scientists removed foreign matter and rust from the surface.\",\n",
        "         \"Conservation scientists controlled corrosion with a chemical treatment.\",\n",
        "         \"All the parts were glued together and any damaged parts were repaired.\",\n",
        "         \"The cap regained its original form and shine.\"]\n",
        "\n",
        "# 문제 단계들을 무작위로 섞습니다.\n",
        "random.shuffle(steps)\n",
        "\n",
        "# 문제를 출력합니다.\n",
        "print(\"List the following steps in the correct order:\")\n",
        "for i, step in enumerate(steps, start=1):\n",
        "    print(f\"{i}. {step}\")\n",
        "\n",
        "# 사용자로부터 단계들의 순서를 입력받습니다.\n",
        "user_order = []\n",
        "for i in range(1, len(steps) + 1):\n",
        "    user_input = input(f\"{i}. Enter a number of the step: \")\n",
        "    user_order.append(int(user_input))\n",
        "\n",
        "# 정답 여부를 확인합니다.\n",
        "correct_order = sorted(range(1, len(steps) + 1), key=lambda x: steps[x - 1])\n",
        "if user_order == correct_order:\n",
        "    print(\"Excellent! YOu did a great job!\")\n",
        "else:\n",
        "    print(\"Oh, that's the wrong answer. The correct order is as follows. :\")\n",
        "    for index in correct_order:\n",
        "        print(steps[index - 1])\n"
      ],
      "metadata": {
        "colab": {
          "base_uri": "https://localhost:8080/"
        },
        "id": "eYsmjD43LzuF",
        "outputId": "79e3ba0f-591b-4f96-da3e-ff3252cea72e",
        "cellView": "form"
      },
      "execution_count": 1,
      "outputs": [
        {
          "output_type": "stream",
          "name": "stdout",
          "text": [
            "List the following steps in the correct order:\n",
            "1. The cap was broken down into parts.\n",
            "2. All the parts were glued together and any damaged parts were repaired.\n",
            "3. Conservation scientists used X-ray photography to determine the original form.\n",
            "4. Conservation scientists removed foreign matter and rust from the surface.\n",
            "5. The cap regained its original form and shine.\n",
            "6. Conservation scientists controlled corrosion with a chemical treatment.\n",
            "1. Enter a number of the step: 4\n",
            "2. Enter a number of the step: 5\n",
            "3. Enter a number of the step: 1\n",
            "4. Enter a number of the step: 2\n",
            "5. Enter a number of the step: 6\n",
            "6. Enter a number of the step: 3\n",
            "Oh, that's the wrong answer. The correct order is as follows. :\n",
            "All the parts were glued together and any damaged parts were repaired.\n",
            "Conservation scientists controlled corrosion with a chemical treatment.\n",
            "Conservation scientists removed foreign matter and rust from the surface.\n",
            "Conservation scientists used X-ray photography to determine the original form.\n",
            "The cap regained its original form and shine.\n",
            "The cap was broken down into parts.\n"
          ]
        }
      ]
    }
  ]
}