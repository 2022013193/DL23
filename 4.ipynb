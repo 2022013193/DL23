{
  "nbformat": 4,
  "nbformat_minor": 0,
  "metadata": {
    "colab": {
      "provenance": [],
      "authorship_tag": "ABX9TyNi+KBxiq99PLW9loAKtur0",
      "include_colab_link": true
    },
    "kernelspec": {
      "name": "python3",
      "display_name": "Python 3"
    },
    "language_info": {
      "name": "python"
    }
  },
  "cells": [
    {
      "cell_type": "markdown",
      "metadata": {
        "id": "view-in-github",
        "colab_type": "text"
      },
      "source": [
        "<a href=\"https://colab.research.google.com/github/2022013193/DL23/blob/main/4.ipynb\" target=\"_parent\"><img src=\"https://colab.research.google.com/assets/colab-badge.svg\" alt=\"Open In Colab\"/></a>"
      ]
    },
    {
      "cell_type": "code",
      "source": [
        "#@markdown 금동관모 복원 순서 퀴즈\n",
        "import random\n",
        "\n",
        "# 주어진 순서대로 단계를 나열한 리스트\n",
        "steps = [\n",
        "    \"Conservation scientists used X-ray photography to determine the original form.\",\n",
        "    \"The cap was broken down into parts.\",\n",
        "    \"Conservation scientists removed foreign matter and rust from the surface.\",\n",
        "    \"Conservation scientists controlled corrosion with a chemical treatment.\",\n",
        "    \"All the parts were glued together and any damaged parts were repaired.\",\n",
        "    \"The cap regained its original form and shine.\"\n",
        "]\n",
        "\n",
        "# 답을 섞어줌\n",
        "random.shuffle(steps)\n",
        "\n",
        "# 순서 맞추기 퀴즈 문제 출력\n",
        "print(\"다음은 금동관모 복원 과정의 단계들입니다. 올바른 순서대로 나열해 보세요.\\n\")\n",
        "\n",
        "for i, step in enumerate(steps):\n",
        "    print(f\"{i+1}. {step}\")\n",
        "\n",
        "print(\"\\n순서를 선택하세요. (숫자로 입력해 주세요)\")\n",
        "\n",
        "# 올바른 순서\n",
        "correct_order = [\n",
        "    \"Conservation scientists used X-ray photography to determine the original form.\",\n",
        "    \"The cap was broken down into parts.\",\n",
        "    \"Conservation scientists removed foreign matter and rust from the surface.\",\n",
        "    \"Conservation scientists controlled corrosion with a chemical treatment.\",\n",
        "    \"All the parts were glued together and any damaged parts were repaired.\",\n",
        "    \"The cap regained its original form and shine.\"\n",
        "]\n",
        "\n",
        "# 사용자로부터 순서 입력 받기\n",
        "user_order = []\n",
        "for i in range(len(steps)):\n",
        "    while True:\n",
        "        try:\n",
        "            step_number = int(input(f\"{i+1}. 단계 번호: \"))\n",
        "            if step_number < 1 or step_number > len(steps) or step_number in user_order:\n",
        "                raise ValueError\n",
        "            break\n",
        "        except ValueError:\n",
        "            print(\"유효한 단계 번호를 입력하세요.\")\n",
        "\n",
        "    user_order.append(steps[step_number-1])\n",
        "\n",
        "# 결과 출력\n",
        "print(\"\\n---결과---\\n\")\n",
        "if user_order == correct_order:\n",
        "    print(\"축하합니다! 올바른 순서로 단계를 나열하셨습니다.\")\n",
        "else:\n",
        "    print(\"순서가 잘못되었습니다. 올바른 순서는 다음과 같습니다:\")\n",
        "    for correct_step in correct_order:\n",
        "        print(\"- \", correct_step)\n"
      ],
      "metadata": {
        "colab": {
          "base_uri": "https://localhost:8080/"
        },
        "id": "eYsmjD43LzuF",
        "outputId": "f3447ac4-3f46-46ad-ccb7-06e09094f553",
        "cellView": "form"
      },
      "execution_count": 14,
      "outputs": [
        {
          "output_type": "stream",
          "name": "stdout",
          "text": [
            "다음은 금동관모 복원 과정의 단계들입니다. 올바른 순서대로 나열해 보세요.\n",
            "\n",
            "1. All the parts were glued together and any damaged parts were repaired.\n",
            "2. Conservation scientists controlled corrosion with a chemical treatment.\n",
            "3. The cap regained its original form and shine.\n",
            "4. The cap was broken down into parts.\n",
            "5. Conservation scientists used X-ray photography to determine the original form.\n",
            "6. Conservation scientists removed foreign matter and rust from the surface.\n",
            "\n",
            "순서를 선택하세요. (숫자로 입력해 주세요)\n",
            "1. 단계 번호: 5\n",
            "2. 단계 번호: 4\n",
            "3. 단계 번호: 6\n",
            "4. 단계 번호: 2\n",
            "5. 단계 번호: 1\n",
            "6. 단계 번호: 3\n",
            "\n",
            "---결과---\n",
            "\n",
            "축하합니다! 올바른 순서로 단계를 나열하셨습니다.\n"
          ]
        }
      ]
    }
  ]
}