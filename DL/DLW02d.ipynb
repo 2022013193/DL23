{
  "nbformat": 4,
  "nbformat_minor": 0,
  "metadata": {
    "colab": {
      "provenance": [],
      "include_colab_link": true
    },
    "kernelspec": {
      "name": "python3",
      "display_name": "Python 3"
    },
    "language_info": {
      "name": "python"
    }
  },
  "cells": [
    {
      "cell_type": "markdown",
      "metadata": {
        "id": "view-in-github",
        "colab_type": "text"
      },
      "source": [
        "<a href=\"https://colab.research.google.com/github/2022013193/DL23/blob/main/DL/DLW02d.ipynb\" target=\"_parent\"><img src=\"https://colab.research.google.com/assets/colab-badge.svg\" alt=\"Open In Colab\"/></a>"
      ]
    },
    {
      "cell_type": "markdown",
      "source": [
        "---\n",
        "# 📗 Topic [2]: Coding basic #2\n",
        "---\n",
        "Keywords:\n",
        "\n",
        "+ variables\n",
        "+ **operators**\n",
        "+ **data types: list and dictionary**"
      ],
      "metadata": {
        "id": "k4A5_MYHpcNQ"
      }
    },
    {
      "cell_type": "markdown",
      "source": [
        "Your github IDs [here](https://docs.google.com/spreadsheets/d/17SX51lCqOdtvC7cAGoX5tP9fKwVdGY5sRzMg2pXh9uk/edit#gid=0) - revised 0327"
      ],
      "metadata": {
        "id": "mUVgzk50XMkt"
      }
    },
    {
      "cell_type": "markdown",
      "source": [
        "## [1] Variables"
      ],
      "metadata": {
        "id": "93gQaEo1RX63"
      }
    },
    {
      "cell_type": "markdown",
      "source": [
        "+ **A variable** is a named storage location that holds a value.\n",
        "+ Variables can be used **to store values** such as numbers, strings, lists, or other data types. \n",
        "+ The value of a variable can change throughout the execution of a program. \n",
        "+ To declare a variable in Python, you need to assign a value to it using the **equal (=) sign.**"
      ],
      "metadata": {
        "id": "jJT4hD1teuJr"
      }
    },
    {
      "cell_type": "code",
      "source": [
        "x = 10\n",
        "y = \"Hello, class!\"\n",
        "z = [1, 2, 3]"
      ],
      "metadata": {
        "id": "Xes87bY2X45M"
      },
      "execution_count": 8,
      "outputs": []
    },
    {
      "cell_type": "markdown",
      "source": [
        "↗️ In the above example, 'x' is assigned the value of 10, 'y' is assigned the value of \"Hello, World!\", and 'z' is assigned the value of [1, 2, 3]."
      ],
      "metadata": {
        "id": "ulw6QsP5ZiKp"
      }
    },
    {
      "cell_type": "code",
      "source": [
        "# We can assign a link or a function\n",
        "import pandas as pd\n",
        "url = \"https://github.com/MK316/Spring2023/raw/main/data/att_sample.csv\"\n",
        "data = pd.read_csv(url)\n",
        "data"
      ],
      "metadata": {
        "id": "_7bvpJt2aQmg",
        "outputId": "fa506ac9-f78a-4ac7-c18f-ec582f30273c",
        "colab": {
          "base_uri": "https://localhost:8080/",
          "height": 488
        }
      },
      "execution_count": 27,
      "outputs": [
        {
          "output_type": "execute_result",
          "data": {
            "text/plain": [
              "      Names\n",
              "0      Mary\n",
              "1      John\n",
              "2       Tim\n",
              "3       Bob\n",
              "4     Sarah\n",
              "5      Kate\n",
              "6     Marie\n",
              "7   Johnson\n",
              "8      Mike\n",
              "9     Harry\n",
              "10      Jin\n",
              "11      Sam\n",
              "12     Paul\n",
              "13  Natalie"
            ],
            "text/html": [
              "\n",
              "  <div id=\"df-18b15d4c-82a2-412f-937b-ac9c0c9071d0\">\n",
              "    <div class=\"colab-df-container\">\n",
              "      <div>\n",
              "<style scoped>\n",
              "    .dataframe tbody tr th:only-of-type {\n",
              "        vertical-align: middle;\n",
              "    }\n",
              "\n",
              "    .dataframe tbody tr th {\n",
              "        vertical-align: top;\n",
              "    }\n",
              "\n",
              "    .dataframe thead th {\n",
              "        text-align: right;\n",
              "    }\n",
              "</style>\n",
              "<table border=\"1\" class=\"dataframe\">\n",
              "  <thead>\n",
              "    <tr style=\"text-align: right;\">\n",
              "      <th></th>\n",
              "      <th>Names</th>\n",
              "    </tr>\n",
              "  </thead>\n",
              "  <tbody>\n",
              "    <tr>\n",
              "      <th>0</th>\n",
              "      <td>Mary</td>\n",
              "    </tr>\n",
              "    <tr>\n",
              "      <th>1</th>\n",
              "      <td>John</td>\n",
              "    </tr>\n",
              "    <tr>\n",
              "      <th>2</th>\n",
              "      <td>Tim</td>\n",
              "    </tr>\n",
              "    <tr>\n",
              "      <th>3</th>\n",
              "      <td>Bob</td>\n",
              "    </tr>\n",
              "    <tr>\n",
              "      <th>4</th>\n",
              "      <td>Sarah</td>\n",
              "    </tr>\n",
              "    <tr>\n",
              "      <th>5</th>\n",
              "      <td>Kate</td>\n",
              "    </tr>\n",
              "    <tr>\n",
              "      <th>6</th>\n",
              "      <td>Marie</td>\n",
              "    </tr>\n",
              "    <tr>\n",
              "      <th>7</th>\n",
              "      <td>Johnson</td>\n",
              "    </tr>\n",
              "    <tr>\n",
              "      <th>8</th>\n",
              "      <td>Mike</td>\n",
              "    </tr>\n",
              "    <tr>\n",
              "      <th>9</th>\n",
              "      <td>Harry</td>\n",
              "    </tr>\n",
              "    <tr>\n",
              "      <th>10</th>\n",
              "      <td>Jin</td>\n",
              "    </tr>\n",
              "    <tr>\n",
              "      <th>11</th>\n",
              "      <td>Sam</td>\n",
              "    </tr>\n",
              "    <tr>\n",
              "      <th>12</th>\n",
              "      <td>Paul</td>\n",
              "    </tr>\n",
              "    <tr>\n",
              "      <th>13</th>\n",
              "      <td>Natalie</td>\n",
              "    </tr>\n",
              "  </tbody>\n",
              "</table>\n",
              "</div>\n",
              "      <button class=\"colab-df-convert\" onclick=\"convertToInteractive('df-18b15d4c-82a2-412f-937b-ac9c0c9071d0')\"\n",
              "              title=\"Convert this dataframe to an interactive table.\"\n",
              "              style=\"display:none;\">\n",
              "        \n",
              "  <svg xmlns=\"http://www.w3.org/2000/svg\" height=\"24px\"viewBox=\"0 0 24 24\"\n",
              "       width=\"24px\">\n",
              "    <path d=\"M0 0h24v24H0V0z\" fill=\"none\"/>\n",
              "    <path d=\"M18.56 5.44l.94 2.06.94-2.06 2.06-.94-2.06-.94-.94-2.06-.94 2.06-2.06.94zm-11 1L8.5 8.5l.94-2.06 2.06-.94-2.06-.94L8.5 2.5l-.94 2.06-2.06.94zm10 10l.94 2.06.94-2.06 2.06-.94-2.06-.94-.94-2.06-.94 2.06-2.06.94z\"/><path d=\"M17.41 7.96l-1.37-1.37c-.4-.4-.92-.59-1.43-.59-.52 0-1.04.2-1.43.59L10.3 9.45l-7.72 7.72c-.78.78-.78 2.05 0 2.83L4 21.41c.39.39.9.59 1.41.59.51 0 1.02-.2 1.41-.59l7.78-7.78 2.81-2.81c.8-.78.8-2.07 0-2.86zM5.41 20L4 18.59l7.72-7.72 1.47 1.35L5.41 20z\"/>\n",
              "  </svg>\n",
              "      </button>\n",
              "      \n",
              "  <style>\n",
              "    .colab-df-container {\n",
              "      display:flex;\n",
              "      flex-wrap:wrap;\n",
              "      gap: 12px;\n",
              "    }\n",
              "\n",
              "    .colab-df-convert {\n",
              "      background-color: #E8F0FE;\n",
              "      border: none;\n",
              "      border-radius: 50%;\n",
              "      cursor: pointer;\n",
              "      display: none;\n",
              "      fill: #1967D2;\n",
              "      height: 32px;\n",
              "      padding: 0 0 0 0;\n",
              "      width: 32px;\n",
              "    }\n",
              "\n",
              "    .colab-df-convert:hover {\n",
              "      background-color: #E2EBFA;\n",
              "      box-shadow: 0px 1px 2px rgba(60, 64, 67, 0.3), 0px 1px 3px 1px rgba(60, 64, 67, 0.15);\n",
              "      fill: #174EA6;\n",
              "    }\n",
              "\n",
              "    [theme=dark] .colab-df-convert {\n",
              "      background-color: #3B4455;\n",
              "      fill: #D2E3FC;\n",
              "    }\n",
              "\n",
              "    [theme=dark] .colab-df-convert:hover {\n",
              "      background-color: #434B5C;\n",
              "      box-shadow: 0px 1px 3px 1px rgba(0, 0, 0, 0.15);\n",
              "      filter: drop-shadow(0px 1px 2px rgba(0, 0, 0, 0.3));\n",
              "      fill: #FFFFFF;\n",
              "    }\n",
              "  </style>\n",
              "\n",
              "      <script>\n",
              "        const buttonEl =\n",
              "          document.querySelector('#df-18b15d4c-82a2-412f-937b-ac9c0c9071d0 button.colab-df-convert');\n",
              "        buttonEl.style.display =\n",
              "          google.colab.kernel.accessAllowed ? 'block' : 'none';\n",
              "\n",
              "        async function convertToInteractive(key) {\n",
              "          const element = document.querySelector('#df-18b15d4c-82a2-412f-937b-ac9c0c9071d0');\n",
              "          const dataTable =\n",
              "            await google.colab.kernel.invokeFunction('convertToInteractive',\n",
              "                                                     [key], {});\n",
              "          if (!dataTable) return;\n",
              "\n",
              "          const docLinkHtml = 'Like what you see? Visit the ' +\n",
              "            '<a target=\"_blank\" href=https://colab.research.google.com/notebooks/data_table.ipynb>data table notebook</a>'\n",
              "            + ' to learn more about interactive tables.';\n",
              "          element.innerHTML = '';\n",
              "          dataTable['output_type'] = 'display_data';\n",
              "          await google.colab.output.renderOutput(dataTable, element);\n",
              "          const docLink = document.createElement('div');\n",
              "          docLink.innerHTML = docLinkHtml;\n",
              "          element.appendChild(docLink);\n",
              "        }\n",
              "      </script>\n",
              "    </div>\n",
              "  </div>\n",
              "  "
            ]
          },
          "metadata": {},
          "execution_count": 27
        }
      ]
    },
    {
      "cell_type": "markdown",
      "source": [
        "## Commenting '#'\n",
        "\n",
        "- In Python, the # symbol is used to indicate comment lines. A comment is a line of text in a code that is ignored by the Python interpreter and is used to provide explanations or notes for the reader of the code.\n",
        "\n",
        "## Uncommenting shortcut: \n",
        "* \"Ctrl + /\" (Place the cursor on the code line and press the Control + / key.)"
      ],
      "metadata": {
        "id": "xZv9R8I8ZWvt"
      }
    },
    {
      "cell_type": "code",
      "source": [
        "# This is a comment in Python\n",
        "x = 10 # this is also a comment"
      ],
      "metadata": {
        "id": "7UJmbmmTaFx9"
      },
      "execution_count": 1,
      "outputs": []
    },
    {
      "cell_type": "code",
      "source": [
        "x1 = x * 10\n",
        "x2 = x + 5\n",
        "\n",
        "print(x1) # Print the value of x1 #컴퓨터는 대소문자 구분 \n",
        "print(x1, x2) # Print the values of x1 and x2"
      ],
      "metadata": {
        "id": "Ivc72tB0X_TS",
        "outputId": "25b2a58b-737d-486a-c6a3-6b1e236d3bbc",
        "colab": {
          "base_uri": "https://localhost:8080/"
        }
      },
      "execution_count": 10,
      "outputs": [
        {
          "output_type": "stream",
          "name": "stdout",
          "text": [
            "100\n",
            "100 15\n"
          ]
        }
      ]
    },
    {
      "cell_type": "code",
      "source": [
        "y1 = y + \"Welcome to the class.\"\n",
        "z1 = z + [3,2,1]\n",
        " \n",
        "print(y1, z1)"
      ],
      "metadata": {
        "id": "cxePqv-52RU0",
        "outputId": "4109797f-600f-4938-ae5f-383e96af7aa0",
        "colab": {
          "base_uri": "https://localhost:8080/"
        }
      },
      "execution_count": 9,
      "outputs": [
        {
          "output_type": "stream",
          "name": "stdout",
          "text": [
            "Hello, class!Welcome to the class. [1, 2, 3, 3, 2, 1]\n"
          ]
        }
      ]
    },
    {
      "cell_type": "markdown",
      "source": [
        "Input types:\n",
        "\n",
        "* integer: e.g., -3, 1, 0, 234, etc. 정수\n",
        "* float: e.g., -3.0, 1.2, 0, 3.141592653589793238, etc. 소수\n",
        "* string: (characters) \"1\", '0', \"3.29\", \"Mary\", \"euphoria\", 'My name is Jane.'\n",
        "\"문자\"\n",
        "\n",
        "_Note:_ double or single quotation marks denote **string** data. (Open and close should match.)"
      ],
      "metadata": {
        "id": "4zDbyBHbeQsq"
      }
    },
    {
      "cell_type": "code",
      "source": [
        "# DIY\n",
        "x = 1\n",
        "y = 3\n",
        "z = x + y\n",
        "print(z)\n",
        "\n",
        "x1 = \"1\" #문자\n",
        "y1 = \"3\" #문자\n",
        "z1 = x1 + y1 \n",
        "print(z1)"
      ],
      "metadata": {
        "colab": {
          "base_uri": "https://localhost:8080/"
        },
        "id": "yzZuC29QfP3T",
        "outputId": "d14f59a1-2c9e-4e34-be9a-31777b9cd304"
      },
      "execution_count": 11,
      "outputs": [
        {
          "output_type": "stream",
          "name": "stdout",
          "text": [
            "4\n",
            "13\n"
          ]
        }
      ]
    },
    {
      "cell_type": "code",
      "source": [
        "type(z)"
      ],
      "metadata": {
        "colab": {
          "base_uri": "https://localhost:8080/"
        },
        "id": "qwDb8cf5fkKi",
        "outputId": "c72c60ad-bb01-414f-bd2c-c888e21b1bb8"
      },
      "execution_count": 12,
      "outputs": [
        {
          "output_type": "execute_result",
          "data": {
            "text/plain": [
              "int"
            ]
          },
          "metadata": {},
          "execution_count": 12
        }
      ]
    },
    {
      "cell_type": "code",
      "source": [
        "type(z1)"
      ],
      "metadata": {
        "colab": {
          "base_uri": "https://localhost:8080/"
        },
        "id": "L7sxvSaOfsOt",
        "outputId": "a56d8d71-d040-46c2-db30-e96dd738f796"
      },
      "execution_count": 13,
      "outputs": [
        {
          "output_type": "execute_result",
          "data": {
            "text/plain": [
              "str"
            ]
          },
          "metadata": {},
          "execution_count": 13
        }
      ]
    },
    {
      "cell_type": "code",
      "source": [
        "print(type(z), type(z1))"
      ],
      "metadata": {
        "colab": {
          "base_uri": "https://localhost:8080/"
        },
        "id": "bbFaL_GWfwMH",
        "outputId": "d0e1be1f-4913-45ef-9fb5-a565e06c615b"
      },
      "execution_count": 14,
      "outputs": [
        {
          "output_type": "stream",
          "name": "stdout",
          "text": [
            "<class 'int'> <class 'str'>\n"
          ]
        }
      ]
    },
    {
      "cell_type": "markdown",
      "source": [
        "## [2] Operators\n",
        "\n",
        "* Symbols that perform operations on values and variables. \n",
        "* They are used to perform arithmetic and logical operations, and they can also be used to manipulate and compare values. "
      ],
      "metadata": {
        "id": "5JgA2T2dRft5"
      }
    },
    {
      "cell_type": "markdown",
      "source": [
        "1. Arithmetic Operators: +, -, *, /, %, ** (for exponentiation)\n",
        "2. semicolon ';' - separate multiple statements (code lines) on a single line."
      ],
      "metadata": {
        "id": "NJBgu_O4bczL"
      }
    },
    {
      "cell_type": "code",
      "source": [
        "x = 2; y = 5\n",
        "\n",
        "a1 = x + y #문장 만들고 싶을 땐 + 사용\n",
        "a2 = x - y\n",
        "a3 = x * y\n",
        "a4 = x / y\n",
        "a5 = x ** y"
      ],
      "metadata": {
        "id": "dXT3pIzobUHU"
      },
      "execution_count": 15,
      "outputs": []
    },
    {
      "cell_type": "code",
      "source": [
        "print(a1, a2, a3, a4, a5)"
      ],
      "metadata": {
        "colab": {
          "base_uri": "https://localhost:8080/"
        },
        "id": "_m3JBsOKd6Uv",
        "outputId": "be6c8903-1b2c-4c5e-abb7-a3193c4a168d"
      },
      "execution_count": 16,
      "outputs": [
        {
          "output_type": "stream",
          "name": "stdout",
          "text": [
            "7 -3 10 0.4 32\n"
          ]
        }
      ]
    },
    {
      "cell_type": "code",
      "source": [
        "print(\"The value of a1:\", a1)"
      ],
      "metadata": {
        "colab": {
          "base_uri": "https://localhost:8080/"
        },
        "id": "5kq7I3nMd0Xi",
        "outputId": "42e9e46c-c15f-4ae5-8932-b1f5194fc87d"
      },
      "execution_count": 17,
      "outputs": [
        {
          "output_type": "stream",
          "name": "stdout",
          "text": [
            "The value of a1: 7\n"
          ]
        }
      ]
    },
    {
      "cell_type": "markdown",
      "source": [
        "# 🌱 Define a function\n",
        "\n",
        "Demo 🔢 Calculator"
      ],
      "metadata": {
        "id": "Cx1NyWUAybc8"
      }
    },
    {
      "cell_type": "code",
      "source": [
        "!pip install gTTS"
      ],
      "metadata": {
        "id": "vzZ6R8qmOmjT",
        "outputId": "f4329d94-f3d4-408a-f618-cce00500532b",
        "colab": {
          "base_uri": "https://localhost:8080/"
        }
      },
      "execution_count": 32,
      "outputs": [
        {
          "output_type": "stream",
          "name": "stdout",
          "text": [
            "Looking in indexes: https://pypi.org/simple, https://us-python.pkg.dev/colab-wheels/public/simple/\n",
            "Collecting gTTS\n",
            "  Downloading gTTS-2.3.1-py3-none-any.whl (28 kB)\n",
            "Requirement already satisfied: click<8.2,>=7.1 in /usr/local/lib/python3.9/dist-packages (from gTTS) (8.1.3)\n",
            "Requirement already satisfied: requests<3,>=2.27 in /usr/local/lib/python3.9/dist-packages (from gTTS) (2.27.1)\n",
            "Requirement already satisfied: charset-normalizer~=2.0.0 in /usr/local/lib/python3.9/dist-packages (from requests<3,>=2.27->gTTS) (2.0.12)\n",
            "Requirement already satisfied: urllib3<1.27,>=1.21.1 in /usr/local/lib/python3.9/dist-packages (from requests<3,>=2.27->gTTS) (1.26.15)\n",
            "Requirement already satisfied: idna<4,>=2.5 in /usr/local/lib/python3.9/dist-packages (from requests<3,>=2.27->gTTS) (3.4)\n",
            "Requirement already satisfied: certifi>=2017.4.17 in /usr/local/lib/python3.9/dist-packages (from requests<3,>=2.27->gTTS) (2022.12.7)\n",
            "Installing collected packages: gTTS\n",
            "Successfully installed gTTS-2.3.1\n"
          ]
        }
      ]
    },
    {
      "cell_type": "code",
      "source": [
        "from gtts import gTTS\n",
        "from IPython.display import Audio"
      ],
      "metadata": {
        "id": "t9Lc4s6fOwLj"
      },
      "execution_count": 33,
      "outputs": []
    },
    {
      "cell_type": "code",
      "source": [
        "def tts(text):\n",
        "  gtts_object = gTTS(text,lang = \"en\", slow = True) \n",
        "  gtts_object.save(\"myaudio.mp3\")\n",
        "  return Audio(\"myaudio.mp3\")"
      ],
      "metadata": {
        "id": "jFv32WA3OzOb"
      },
      "execution_count": 34,
      "outputs": []
    },
    {
      "cell_type": "code",
      "source": [
        "# This function adds two numbers #함수는 def, 함수이름 적어주고 ()안에 argument 적어주기 ':'필수, \n",
        "def add(x, y):\n",
        "    return x + y\n",
        "\n",
        "# This function subtracts two numbers\n",
        "def subtract(x, y):\n",
        "    return x - y\n",
        "\n",
        "# This function multiplies two numbers\n",
        "def multiply(x, y):\n",
        "    return x * y\n",
        "\n",
        "# This function divides two numbers\n",
        "def divide(x, y):\n",
        "    return x / y\n"
      ],
      "metadata": {
        "id": "Dod3_zgYdsWe"
      },
      "execution_count": 18,
      "outputs": []
    },
    {
      "cell_type": "code",
      "source": [
        "# DIY: define a function names switch(x, y), where the input x, y changes its position in the output.\n",
        "print(add(1234,3245))\n",
        "subtract(9809258,5647382)\n",
        "multiply(11500,2.5)"
      ],
      "metadata": {
        "id": "W9CuAaqXgwb5",
        "outputId": "04c46c8d-4394-4eac-cb55-7237a8ef4844",
        "colab": {
          "base_uri": "https://localhost:8080/"
        }
      },
      "execution_count": 25,
      "outputs": [
        {
          "output_type": "stream",
          "name": "stdout",
          "text": [
            "4479\n"
          ]
        },
        {
          "output_type": "execute_result",
          "data": {
            "text/plain": [
              "28750.0"
            ]
          },
          "metadata": {},
          "execution_count": 25
        }
      ]
    },
    {
      "cell_type": "code",
      "source": [
        "# Test\n",
        "\n",
        "add(2,3)\n",
        "# subtract(3,2)\n",
        "# multiply(2,3)\n",
        "# divide(3,2)"
      ],
      "metadata": {
        "id": "IoHh-U2GBsqH",
        "outputId": "10510e9c-1408-4824-aad6-a6c9a96a0ea2",
        "colab": {
          "base_uri": "https://localhost:8080/"
        }
      },
      "execution_count": null,
      "outputs": [
        {
          "output_type": "execute_result",
          "data": {
            "text/plain": [
              "5"
            ]
          },
          "metadata": {},
          "execution_count": 3
        }
      ]
    },
    {
      "cell_type": "markdown",
      "source": [
        "## Using dropbox format"
      ],
      "metadata": {
        "id": "eOluPoNqCCE1"
      }
    },
    {
      "cell_type": "code",
      "source": [
        "func = \"add\" #@param = [\"add\",\"subtract\",\"multiply\",\"divide\"]\n",
        "digits = input(\"Type two numbers: (e.g., 3,4)\")\n",
        "digitsplit = digits.split(',')\n",
        "d1 = int(digitsplit[0])\n",
        "d2 = int(digitsplit[1])\n",
        "\n",
        "if func == \"add\":\n",
        "  result = add(d1,d2)\n",
        "  text = \"The addition of %d and %d equals %d.\"%(d1,d2,result)\n",
        "elif func == \"subtract\":\n",
        "  result = subtract(d1,d2)\n",
        "  text = \"If you subtract %d from %d, you get %d.\"%(d2,d1,result)\n",
        "elif func == \"divide\":\n",
        "  result = divide(d1,d2)\n",
        "  text = \"When you divide %d by %d, you get %d.\"%(d1,d2,result)\n",
        "elif func == \"multiply\":\n",
        "  result = multiply(d1,d2)\n",
        "  text = \"%d multiplied by %d is %d.\"%(d1,d2,result)\n",
        "\n",
        "  print(text)\n",
        "tts(text)\n",
        "Audio(\"myaudio.mp3\")"
      ],
      "metadata": {
        "cellView": "form",
        "id": "FT47bY6qBo3k",
        "outputId": "2840c7f3-f9e3-44d2-dbce-bc1fb410d6d0",
        "colab": {
          "base_uri": "https://localhost:8080/",
          "height": 93
        }
      },
      "execution_count": 36,
      "outputs": [
        {
          "name": "stdout",
          "output_type": "stream",
          "text": [
            "Type two numbers: (e.g., 3,4)5,6\n"
          ]
        },
        {
          "output_type": "execute_result",
          "data": {
            "text/plain": [
              "<IPython.lib.display.Audio object>"
            ],
            "text/html": [
              "\n",
              "                <audio  controls=\"controls\" >\n",
              "                    <source src=\"data:audio/mpeg;base64,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\" type=\"audio/mpeg\" />\n",
              "                    Your browser does not support the audio element.\n",
              "                </audio>\n",
              "              "
            ]
          },
          "metadata": {},
          "execution_count": 36
        }
      ]
    },
    {
      "cell_type": "markdown",
      "source": [
        "More operators: <br>\n",
        "* Comparison Operators: ==, !=, <, >, <=, >= <br>\n",
        "* Assignment Operators: =, +=, -=, *=, /=, %= <br>\n",
        "* Logical Operators: and, or, not <br>\n",
        "* Identity Operators: is, is not <br>\n",
        "* Membership Operators: in, not in "
      ],
      "metadata": {
        "id": "sfubu24UbqjH"
      }
    },
    {
      "cell_type": "markdown",
      "source": [
        "# 📗Topic [3] Data types: number, string, list and dictionary\n"
      ],
      "metadata": {
        "id": "3eSrUoglRh6-"
      }
    },
    {
      "cell_type": "markdown",
      "source": [
        "\n",
        "|Data type| |\n",
        "|:--:|:--:|\n",
        "|number|int, float|\n",
        "|string|charcter|\n",
        "|list|[1, 2,4], ['Mary','Tom','Jane'|\n",
        "|dictionary|(key: value), [('English': 80), ('Korean':90)]|\n",
        "|tuple|('zero', 0)|\n"
      ],
      "metadata": {
        "id": "ZVFb5JmJrPXu"
      }
    },
    {
      "cell_type": "code",
      "source": [
        "a1 = 3   # a1 is integer\n",
        "a2 = 3.0 # a2 is float\n",
        "a3 = \"3\" # a3 is string\n",
        "\n",
        "type(a1); type(a2); type(a3)\n",
        "# print(type(a1), type(a2), type(a3))"
      ],
      "metadata": {
        "colab": {
          "base_uri": "https://localhost:8080/"
        },
        "id": "g-kvldqENA1e",
        "outputId": "a0d8976f-7499-448b-b2e1-7f1cfd47331f"
      },
      "execution_count": 37,
      "outputs": [
        {
          "output_type": "execute_result",
          "data": {
            "text/plain": [
              "str"
            ]
          },
          "metadata": {},
          "execution_count": 37
        }
      ]
    },
    {
      "cell_type": "markdown",
      "source": [
        "list and index (0, 1, 2,...)"
      ],
      "metadata": {
        "id": "HC_wMsPnNbzs"
      }
    },
    {
      "cell_type": "code",
      "source": [
        "a = [1, \"Mary\", 4, \"John\"]  # This is a list.\n",
        "print(type(a))\n",
        "\n",
        "# a+a"
      ],
      "metadata": {
        "colab": {
          "base_uri": "https://localhost:8080/"
        },
        "id": "LyTw7phONZHE",
        "outputId": "be74a514-ae17-4cb8-ed89-ba8b6fdc7635"
      },
      "execution_count": 46,
      "outputs": [
        {
          "output_type": "stream",
          "name": "stdout",
          "text": [
            "<class 'list'>\n"
          ]
        }
      ]
    },
    {
      "cell_type": "markdown",
      "source": [
        "* index: Python index starts from '0'\n",
        "\n",
        "e.g., a = [1, 2, 3, 4]"
      ],
      "metadata": {
        "id": "-fL-pJvj7NW8"
      }
    },
    {
      "cell_type": "code",
      "source": [
        "a[0]\n",
        "type(a[0])\n",
        "type(a[1])\n",
        "a[0] + a[2]\n",
        "a[0] + a[1] #int+str은 error"
      ],
      "metadata": {
        "id": "9Z5zLDGc7X13",
        "outputId": "0fdf7b6f-e504-4e28-c69a-3e672d453d66",
        "colab": {
          "base_uri": "https://localhost:8080/",
          "height": 211
        }
      },
      "execution_count": 48,
      "outputs": [
        {
          "output_type": "error",
          "ename": "TypeError",
          "evalue": "ignored",
          "traceback": [
            "\u001b[0;31m---------------------------------------------------------------------------\u001b[0m",
            "\u001b[0;31mTypeError\u001b[0m                                 Traceback (most recent call last)",
            "\u001b[0;32m<ipython-input-48-7c2a495ff754>\u001b[0m in \u001b[0;36m<module>\u001b[0;34m\u001b[0m\n\u001b[1;32m      3\u001b[0m \u001b[0mtype\u001b[0m\u001b[0;34m(\u001b[0m\u001b[0ma\u001b[0m\u001b[0;34m[\u001b[0m\u001b[0;36m1\u001b[0m\u001b[0;34m]\u001b[0m\u001b[0;34m)\u001b[0m\u001b[0;34m\u001b[0m\u001b[0;34m\u001b[0m\u001b[0m\n\u001b[1;32m      4\u001b[0m \u001b[0ma\u001b[0m\u001b[0;34m[\u001b[0m\u001b[0;36m0\u001b[0m\u001b[0;34m]\u001b[0m \u001b[0;34m+\u001b[0m \u001b[0ma\u001b[0m\u001b[0;34m[\u001b[0m\u001b[0;36m2\u001b[0m\u001b[0;34m]\u001b[0m\u001b[0;34m\u001b[0m\u001b[0;34m\u001b[0m\u001b[0m\n\u001b[0;32m----> 5\u001b[0;31m \u001b[0ma\u001b[0m\u001b[0;34m[\u001b[0m\u001b[0;36m0\u001b[0m\u001b[0;34m]\u001b[0m \u001b[0;34m+\u001b[0m \u001b[0ma\u001b[0m\u001b[0;34m[\u001b[0m\u001b[0;36m1\u001b[0m\u001b[0;34m]\u001b[0m\u001b[0;34m\u001b[0m\u001b[0;34m\u001b[0m\u001b[0m\n\u001b[0m",
            "\u001b[0;31mTypeError\u001b[0m: unsupported operand type(s) for +: 'int' and 'str'"
          ]
        }
      ]
    },
    {
      "cell_type": "markdown",
      "source": [
        "[Github accounts](https://raw.githubusercontent.com/MK316/Spring2023/main/DL/files/DL_github.csv)"
      ],
      "metadata": {
        "id": "S-KG49Zaim0S"
      }
    },
    {
      "cell_type": "markdown",
      "source": [
        "\n",
        "\n",
        "---\n",
        "# The End\n"
      ],
      "metadata": {
        "id": "3cZjH9xIiN4_"
      }
    }
  ]
}